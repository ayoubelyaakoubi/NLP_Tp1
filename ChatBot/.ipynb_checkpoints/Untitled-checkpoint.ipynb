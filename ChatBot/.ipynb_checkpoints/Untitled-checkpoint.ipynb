{
 "cells": [
  {
   "cell_type": "code",
   "execution_count": 1,
   "id": "165050cb",
   "metadata": {},
   "outputs": [
    {
     "name": "stderr",
     "output_type": "stream",
     "text": [
      "C:\\Users\\ASUS\\anaconda3\\envs\\chatbot\\lib\\site-packages\\google\\auth\\__init__.py:50: Python37DeprecationWarning: After January 1, 2024, new releases of this library will drop support for Python 3.7.\n",
      "  warnings.warn(message, Python37DeprecationWarning)\n",
      "C:\\Users\\ASUS\\anaconda3\\envs\\chatbot\\lib\\site-packages\\google\\oauth2\\__init__.py:36: Python37DeprecationWarning: After January 1, 2024, new releases of this library will drop support for Python 3.7.\n",
      "  warnings.warn(message, Python37DeprecationWarning)\n",
      "C:\\Users\\ASUS\\anaconda3\\envs\\chatbot\\lib\\site-packages\\rasa\\core\\tracker_store.py:1050: MovedIn20Warning: Deprecated API features detected! These feature(s) are not compatible with SQLAlchemy 2.0. To prevent incompatible upgrades prior to updating applications, ensure requirements files are pinned to \"sqlalchemy<2.0\". Set environment variable SQLALCHEMY_WARN_20=1 to show all deprecation warnings.  Set environment variable SQLALCHEMY_SILENCE_UBER_WARNING=1 to silence this message. (Background on SQLAlchemy 2.0 at: https://sqlalche.me/e/b8d9)\n",
      "  Base: DeclarativeMeta = declarative_base()\n"
     ]
    }
   ],
   "source": [
    "from rasa.jupyter import chat"
   ]
  },
  {
   "cell_type": "code",
   "execution_count": null,
   "id": "9fa44b8b",
   "metadata": {},
   "outputs": [],
   "source": []
  }
 ],
 "metadata": {
  "kernelspec": {
   "display_name": "Python 3 (ipykernel)",
   "language": "python",
   "name": "python3"
  },
  "language_info": {
   "codemirror_mode": {
    "name": "ipython",
    "version": 3
   },
   "file_extension": ".py",
   "mimetype": "text/x-python",
   "name": "python",
   "nbconvert_exporter": "python",
   "pygments_lexer": "ipython3",
   "version": "3.7.6"
  }
 },
 "nbformat": 4,
 "nbformat_minor": 5
}
