{
 "cells": [
  {
   "cell_type": "markdown",
   "id": "9417ca15",
   "metadata": {},
   "source": [
    "## Lecture du fichier et prétraitement du texte"
   ]
  },
  {
   "cell_type": "code",
   "execution_count": 19,
   "id": "54d66415",
   "metadata": {},
   "outputs": [
    {
     "name": "stdout",
     "output_type": "stream",
     "text": [
      "['morocco', 'and', 'marrakech', 'tapestry', 'of', 'tradition', 'and', 'modernity', 'morocco', 'located', 'at', 'the', 'crossroads', 'of', 'europe', 'and', 'africa', 'is', 'country', 'drenched', 'in', 'history', 'mystery', 'and', 'cultural', 'richness', 'testament', 'to', 'the', 'ancient', 'civilizations', 'that', 'once', 'flourished', 'here', 'this', 'north', 'african', 'kingdom', 'boasts', 'unique', 'blend', 'of', 'arab', 'berber', 'and', 'european', 'influences', 'at', 'the', 'heart', 'of', 'morocco', 'rich', 'tapestry', 'lies', 'marrakech', 'one', 'of', 'its', 'four', 'imperial', 'cities', 'and', 'vibrant', 'epicenter', 'of', 'tradition', 'and', 'modernity', 'geographical', 'significance', 'morocco', 'is', 'bordered', 'by', 'the', 'atlantic', 'ocean', 'to', 'the', 'west', 'the', 'mediterranean', 'sea', 'to', 'the', 'north', 'algeria', 'to', 'the', 'east', 'and', 'southeast', 'and', 'the', 'vast', 'sahara', 'desert', 'to', 'the', 'south', 'its', 'strategic', 'location', 'has', 'historically', 'made', 'it', 'sought', 'after', 'territory', 'and', 'melting', 'pot', 'of', 'cultures', 'religions', 'and', 'trade', 'routes', 'marrakech', 'the', 'red', 'city', 'marrakech', 'often', 'referred', 'to', 'as', 'the', 'red', 'city', 'due', 'to', 'its', 'distinctive', 'red', 'hued', 'buildings', 'stands', 'against', 'the', 'backdrop', 'of', 'the', 'snow', 'capped', 'atlas', 'mountains', 'established', 'in', 'the', 'th', 'century', 'it', 'has', 'remained', 'crucial', 'political', 'economic', 'and', 'cultural', 'center', 'of', 'morocco', 'journey', 'through', 'the', 'medina', 'marrakech', 'old', 'town', 'the', 'medina', 'is', 'unesco', 'world', 'heritage', 'site', 'and', 'labyrinthine', 'maze', 'of', 'narrow', 'alleys', 'bustling', 'souks', 'and', 'historical', 'landmarks', 'the', 'djemaa', 'el', 'fna', 'square', 'lies', 'at', 'the', 'heart', 'of', 'the', 'medina', 'and', 'comes', 'alive', 'every', 'evening', 'with', 'storytellers', 'musicians', 'snake', 'charmers', 'and', 'food', 'stalls', 'offering', 'tantalizing', 'moroccan', 'delicacies', 'palaces', 'and', 'gardens', 'the', 'city', 'is', 'also', 'home', 'to', 'grand', 'palaces', 'like', 'the', 'bahia', 'palace', 'showcasing', 'intricate', 'islamic', 'architecture', 'and', 'the', 'saadian', 'tombs', 'remnants', 'of', 'the', 'saadian', 'dynasty', 'the', 'majorelle', 'garden', 'restored', 'by', 'the', 'fashion', 'designer', 'yves', 'saint', 'laurent', 'is', 'tranquil', 'oasis', 'of', 'cacti', 'palm', 'trees', 'and', 'cobalt', 'blue', 'accents', 'modern', 'marrakech', 'while', 'tradition', 'and', 'history', 'permeate', 'marrakech', 'the', 'city', 'is', 'not', 'averse', 'to', 'the', 'modern', 'world', 'gueliz', 'the', 'new', 'town', 'is', 'brimming', 'with', 'contemporary', 'art', 'galleries', 'stylish', 'cafes', 'and', 'chic', 'boutiques', 'offering', 'stark', 'contrast', 'to', 'the', 'ancient', 'medina', 'moroccan', 'cuisine', 'no', 'journey', 'through', 'morocco', 'and', 'marrakech', 'would', 'be', 'complete', 'without', 'indulging', 'in', 'the', 'local', 'cuisine', 'tagines', 'couscous', 'and', 'pastilla', 'are', 'just', 'few', 'of', 'the', 'many', 'dishes', 'that', 'combine', 'plethora', 'of', 'flavors', 'and', 'spices', 'like', 'saffron', 'cumin', 'and', 'mint', 'paired', 'with', 'moroccan', 'mint', 'tea', 'the', 'culinary', 'experience', 'is', 'truly', 'unparalleled', 'in', 'conclusion', 'morocco', 'with', 'marrakech', 'at', 'its', 'heart', 'offers', 'travelers', 'an', 'unparalleled', 'journey', 'through', 'time', 'the', 'convergence', 'of', 'history', 'culture', 'architecture', 'and', 'gastronomy', 'makes', 'it', 'an', 'enthralling', 'destination', 'for', 'those', 'seeking', 'both', 'adventure', 'and', 'reflection', 'as', 'the', 'moroccan', 'proverb', 'goes', 'he', 'who', 'does', 'not', 'travel', 'does', 'not', 'know', 'the', 'value', 'of', 'men', 'in', 'the', 'case', 'of', 'morocco', 'and', 'marrakech', 'it', 'not', 'just', 'the', 'value', 'of', 'men', 'but', 'also', 'the', 'value', 'of', 'time', 'tradition', 'and', 'tales', 'that', 'have', 'spanned', 'centuries']\n"
     ]
    }
   ],
   "source": [
    "from gensim.utils import simple_preprocess\n",
    "\n",
    "\n",
    "with open(\"text\", \"r\", encoding=\"utf-8\") as file:\n",
    "    text = file.read()\n",
    "\n",
    "tokens = simple_preprocess(text)\n",
    "print(tokens)\n"
   ]
  },
  {
   "cell_type": "markdown",
   "id": "a8b43aad",
   "metadata": {},
   "source": [
    "## Entraînement du modèle Word2Vec"
   ]
  },
  {
   "cell_type": "code",
   "execution_count": 22,
   "id": "ab940e54",
   "metadata": {},
   "outputs": [
    {
     "name": "stdout",
     "output_type": "stream",
     "text": [
      "Word2Vec<vocab=251, vector_size=100, alpha=0.025>\n"
     ]
    }
   ],
   "source": [
    "from gensim.models import Word2Vec\n",
    "\n",
    "model = Word2Vec([tokens], vector_size=100, window=4, min_count=1, sg=1)\n",
    "print(model)"
   ]
  },
  {
   "cell_type": "markdown",
   "id": "ead1cca8",
   "metadata": {},
   "source": [
    "## Extraire la représentation vectorielle d'un mot"
   ]
  },
  {
   "cell_type": "code",
   "execution_count": 6,
   "id": "25cbe642",
   "metadata": {},
   "outputs": [
    {
     "name": "stdout",
     "output_type": "stream",
     "text": [
      "Représentation vectorielle du mot 'Marrakech': [ 3.0061139e-03  7.9941060e-03  6.0116616e-03  8.8960789e-03\n",
      "  6.7285141e-03  1.6845595e-05  7.2352719e-03 -1.4876188e-03\n",
      " -9.4397431e-03  4.6686851e-03  5.1045706e-03  4.2000990e-03\n",
      " -8.9337854e-03  7.9771345e-03  3.4272308e-03  8.5167801e-03\n",
      "  6.0832812e-03  2.8810974e-03 -8.4692438e-04 -1.1496035e-03\n",
      "  1.5338158e-03 -2.3688874e-03 -9.3916217e-03  3.3829387e-03\n",
      " -5.9033763e-03 -7.2899059e-04  3.7626447e-03 -7.9271030e-03\n",
      " -6.8804278e-04  9.1136992e-03  2.0019163e-03 -9.7153103e-03\n",
      "  5.8518065e-04  9.5619746e-03  4.4403840e-03  1.0103728e-02\n",
      "  4.2266184e-03  1.7760721e-03 -9.2358524e-03 -1.6385671e-03\n",
      "  3.0175629e-03 -7.9497946e-03 -4.2539192e-03  6.8094423e-03\n",
      " -1.0737183e-03  6.1142510e-03 -3.2492301e-03 -9.1145700e-03\n",
      " -1.8386842e-03  4.7829091e-03 -2.0350700e-03 -9.4537614e-03\n",
      "  5.5515729e-03  2.7840029e-04 -7.5947507e-03 -2.5737761e-03\n",
      " -9.3322434e-03 -2.9638640e-03  3.5192715e-03  4.8062503e-03\n",
      " -5.3901685e-04 -4.9445648e-03  4.0038740e-03 -8.7570213e-03\n",
      " -3.9629117e-04 -8.9874938e-03  7.0888223e-03  6.2155044e-03\n",
      " -1.1735379e-03  5.0071008e-03 -8.6725038e-03 -4.3415949e-03\n",
      "  1.4644279e-03 -3.1079806e-03  9.5722033e-04  4.0078158e-03\n",
      " -7.1743815e-03 -8.9276079e-03  9.1144955e-03  6.6221422e-03\n",
      " -4.4066757e-03  1.1209839e-03 -3.7210938e-03 -2.9883411e-04\n",
      "  5.7056742e-03 -9.8456526e-03  7.5975299e-04  8.2072578e-03\n",
      "  8.3156005e-03 -8.4151952e-03  2.5943695e-03  6.9802883e-03\n",
      "  9.0010315e-03  4.8180930e-03  9.9311462e-03  4.4797361e-03\n",
      "  8.5792149e-04 -2.4373382e-03  1.4960045e-03 -6.2154082e-04]\n"
     ]
    }
   ],
   "source": [
    "word_vector = model.wv['couscous']\n",
    "print(\"Représentation vectorielle du mot 'couscous':\", word_vector)"
   ]
  },
  {
   "cell_type": "markdown",
   "id": "91c4070c",
   "metadata": {},
   "source": [
    "## Calculer la similarité entre deux mots"
   ]
  },
  {
   "cell_type": "code",
   "execution_count": 9,
   "id": "97f1d7f8",
   "metadata": {},
   "outputs": [
    {
     "name": "stdout",
     "output_type": "stream",
     "text": [
      "Similarité entre 'couscous' et 'Morocco': 0.122631595\n"
     ]
    }
   ],
   "source": [
    "similarity = model.wv.similarity('couscous', 'morocco')\n",
    "print(\"Similarité entre 'couscous' et 'Morocco':\", similarity)\n"
   ]
  },
  {
   "cell_type": "markdown",
   "id": "c8f3f943",
   "metadata": {},
   "source": [
    "## Extraire les mots contextuels pour un mot central donné"
   ]
  },
  {
   "cell_type": "code",
   "execution_count": 20,
   "id": "8ccab7b8",
   "metadata": {},
   "outputs": [
    {
     "name": "stdout",
     "output_type": "stream",
     "text": [
      "Mots contextuels pour 'africa': [('delicacies', 0.2849641442298889), ('art', 0.27219611406326294), ('strategic', 0.2523433268070221)]\n"
     ]
    }
   ],
   "source": [
    "context_words = model.wv.most_similar('africa', topn=3)\n",
    "print(\"Mots contextuels pour 'africa':\", context_words)"
   ]
  },
  {
   "cell_type": "code",
   "execution_count": null,
   "id": "2f0c4c4a",
   "metadata": {},
   "outputs": [],
   "source": []
  },
  {
   "cell_type": "code",
   "execution_count": null,
   "id": "12ea5e6e",
   "metadata": {},
   "outputs": [],
   "source": []
  }
 ],
 "metadata": {
  "kernelspec": {
   "display_name": "Python 3 (ipykernel)",
   "language": "python",
   "name": "python3"
  },
  "language_info": {
   "codemirror_mode": {
    "name": "ipython",
    "version": 3
   },
   "file_extension": ".py",
   "mimetype": "text/x-python",
   "name": "python",
   "nbconvert_exporter": "python",
   "pygments_lexer": "ipython3",
   "version": "3.11.5"
  }
 },
 "nbformat": 4,
 "nbformat_minor": 5
}
