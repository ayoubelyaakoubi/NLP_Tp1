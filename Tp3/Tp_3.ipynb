{
 "cells": [
  {
   "cell_type": "markdown",
   "id": "7af7ea58",
   "metadata": {},
   "source": [
    "## Pre-processing des données textuelles :"
   ]
  },
  {
   "cell_type": "code",
   "execution_count": 56,
   "id": "94c542e3",
   "metadata": {
    "scrolled": false
   },
   "outputs": [
    {
     "name": "stderr",
     "output_type": "stream",
     "text": [
      "[nltk_data] Downloading package stopwords to\n",
      "[nltk_data]     C:\\Users\\ASUS\\AppData\\Roaming\\nltk_data...\n",
      "[nltk_data]   Package stopwords is already up-to-date!\n",
      "[nltk_data] Downloading package punkt to\n",
      "[nltk_data]     C:\\Users\\ASUS\\AppData\\Roaming\\nltk_data...\n",
      "[nltk_data]   Package punkt is already up-to-date!\n"
     ]
    },
    {
     "data": {
      "text/plain": [
       "0        films adapted comic books plenty success wheth...\n",
       "1        starters created alan moore eddie campbell bro...\n",
       "2        say moore campbell thoroughly researched subje...\n",
       "3        book `` graphic novel `` 500 pages long includ...\n",
       "4                            words n't dismiss film source\n",
       "                               ...                        \n",
       "64715      lack inspiration traced back insipid characters\n",
       "64716    like many skits current incarnation _saturday_...\n",
       "64717    watching one `` roxbury `` skits snl come away...\n",
       "64718                           bump unsuspecting women 's\n",
       "64719    watching _a_night_at_the_roxbury_ 'll left exa...\n",
       "Name: Preprocessed_Text, Length: 64720, dtype: object"
      ]
     },
     "execution_count": 56,
     "metadata": {},
     "output_type": "execute_result"
    }
   ],
   "source": [
    "import pandas as pd\n",
    "import numpy as np\n",
    "from gensim.models import Word2Vec\n",
    "import nltk\n",
    "from nltk.corpus import stopwords\n",
    "import string\n",
    "\n",
    "# Télécharger les ressources nécessaires pour NLTK\n",
    "nltk.download('stopwords')\n",
    "nltk.download('punkt')\n",
    "df = pd.read_csv('movie_review.csv')\n",
    "stop_words = set(stopwords.words('english'))\n",
    "\n",
    "def Pre_processing_text(text):\n",
    "    \n",
    "    # Convertir le texte en minuscules\n",
    "    text = text.lower()\n",
    "    # Tokenization\n",
    "    tokens = nltk.word_tokenize(text)\n",
    "    \n",
    "   # Suppression de la ponctuation et les mots vides\n",
    "    tokens = [word for word in tokens if word not in string.punctuation]\n",
    "    tokens = [word for word in tokens if word not in stop_words]\n",
    "    \n",
    "    # Rejoindre les mots filtrés en une seule chaîne de texte\n",
    "    preprocessed_text = ' '.join(tokens)\n",
    "    \n",
    "    return preprocessed_text\n",
    "\n",
    "# Appliquer le prétraitement à chaque texte de la colonne \"Text\"\n",
    "\n",
    "df['Preprocessed_Text'] = df['text'].apply(Pre_processing_text)\n",
    "\n",
    "df['Preprocessed_Text']\n"
   ]
  },
  {
   "cell_type": "markdown",
   "id": "3960eb40",
   "metadata": {},
   "source": [
    "# Entraînement du modèle Word2Vec :"
   ]
  },
  {
   "cell_type": "code",
   "execution_count": 57,
   "id": "2422d028",
   "metadata": {},
   "outputs": [
    {
     "name": "stdout",
     "output_type": "stream",
     "text": [
      "Word2Vec<vocab=46288, vector_size=100, alpha=0.025>\n"
     ]
    }
   ],
   "source": [
    "# from gensim.models import Word2Vec\n",
    "\n",
    "\n",
    "\n",
    "# # Entraînement du modèle Word2Vec\n",
    "tokenized_texts = [nltk.word_tokenize(text) for text in df['Preprocessed_Text']]\n",
    "model = Word2Vec(tokenized_texts, vector_size=100, window=5, min_count=1, workers=4)\n",
    "print(model)\n",
    "\n"
   ]
  },
  {
   "cell_type": "markdown",
   "id": "26af1818",
   "metadata": {},
   "source": [
    "# Vectorisation des reviews de movies :"
   ]
  },
  {
   "cell_type": "code",
   "execution_count": 58,
   "id": "0925c835",
   "metadata": {},
   "outputs": [],
   "source": [
    "def document_vector(doc, model):\n",
    "    \n",
    "    doc_embedding = []\n",
    "    # Pour chaque mot dans le document\n",
    "    for word in doc.split():\n",
    "        # Si le mot est dans le vocabulaire du modèle Word2Vec\n",
    "        if word in model.wv.key_to_index:\n",
    "            # Ajouter l'embedding du mot à la liste\n",
    "            doc_embedding.append(model.wv[word])\n",
    "    # Si le document est vide ou aucun mot n'a été trouvé dans le modèle\n",
    "    if not doc_embedding:\n",
    "        return np.zeros(model.vector_size)\n",
    "    # Calculer la moyenne des embeddings des mots dans le document\n",
    "    return np.mean(doc_embedding, axis=0)\n",
    "\n",
    "# Calculer le vecteur de document pour la critique de film\n",
    "df['Document_Vector'] = df['Preprocessed_Text'].apply(lambda x: document_vector(x, model))\n"
   ]
  },
  {
   "cell_type": "markdown",
   "id": "76ecb536",
   "metadata": {},
   "source": [
    "## Division des données :"
   ]
  },
  {
   "cell_type": "code",
   "execution_count": 63,
   "id": "aca5f3b0",
   "metadata": {},
   "outputs": [],
   "source": [
    "from sklearn.model_selection import train_test_split\n",
    "\n",
    "# Séparer les caractéristiques (features) et les étiquettes (labels)\n",
    "## Convertir les vecteurs de document stockés dans une liste en un DataFrame Pandas\n",
    "X = pd.DataFrame(df['Document_Vector'].tolist()) \n",
    "y = df['tag']  # Les tags sont les étiquettes\n",
    "# Division des données en ensembles d'entraînement et de test\n",
    "X_train, X_test, y_train, y_test = train_test_split(X, y, test_size=0.2, random_state=42)\n"
   ]
  },
  {
   "cell_type": "markdown",
   "id": "9fa208b8",
   "metadata": {},
   "source": [
    "## Construction d'un classificateur :"
   ]
  },
  {
   "cell_type": "code",
   "execution_count": 60,
   "id": "33ba32f4",
   "metadata": {},
   "outputs": [
    {
     "name": "stderr",
     "output_type": "stream",
     "text": [
      "C:\\Users\\ASUS\\anaconda3\\Lib\\site-packages\\sklearn\\linear_model\\_logistic.py:460: ConvergenceWarning: lbfgs failed to converge (status=1):\n",
      "STOP: TOTAL NO. of ITERATIONS REACHED LIMIT.\n",
      "\n",
      "Increase the number of iterations (max_iter) or scale the data as shown in:\n",
      "    https://scikit-learn.org/stable/modules/preprocessing.html\n",
      "Please also refer to the documentation for alternative solver options:\n",
      "    https://scikit-learn.org/stable/modules/linear_model.html#logistic-regression\n",
      "  n_iter_i = _check_optimize_result(\n"
     ]
    }
   ],
   "source": [
    "from sklearn.linear_model import LogisticRegression\n",
    "from sklearn.metrics import accuracy_score, classification_report\n",
    "\n",
    "# Création d'une instance de modèle de régression logistique\n",
    "model = LogisticRegression()\n",
    "\n",
    "# Entraînement du modèle\n",
    "model.fit(X_train, y_train)\n",
    "\n",
    "# Prédictions sur l'ensemble de test\n",
    "y_pred = model.predict(X_test)\n",
    "\n",
    "\n"
   ]
  },
  {
   "cell_type": "markdown",
   "id": "6a4eae1f",
   "metadata": {},
   "source": [
    "## Évaluation du modèle :"
   ]
  },
  {
   "cell_type": "code",
   "execution_count": 62,
   "id": "9da1b6e4",
   "metadata": {
    "scrolled": true
   },
   "outputs": [
    {
     "name": "stdout",
     "output_type": "stream",
     "text": [
      "Précision (accuracy) : 0.5618819530284301\n",
      "Rapport de classification :\n",
      "               precision    recall  f1-score   support\n",
      "\n",
      "         neg       0.56      0.46      0.51      6324\n",
      "         pos       0.56      0.66      0.61      6620\n",
      "\n",
      "    accuracy                           0.56     12944\n",
      "   macro avg       0.56      0.56      0.56     12944\n",
      "weighted avg       0.56      0.56      0.56     12944\n",
      "\n"
     ]
    }
   ],
   "source": [
    "# Évaluation du modèle\n",
    "accuracy = accuracy_score(y_test, y_pred)\n",
    "report = classification_report(y_test, y_pred)\n",
    "\n",
    "print(\"Précision (accuracy) :\", accuracy)\n",
    "print(\"Rapport de classification :\\n\", report)"
   ]
  }
 ],
 "metadata": {
  "kernelspec": {
   "display_name": "Python 3 (ipykernel)",
   "language": "python",
   "name": "python3"
  },
  "language_info": {
   "codemirror_mode": {
    "name": "ipython",
    "version": 3
   },
   "file_extension": ".py",
   "mimetype": "text/x-python",
   "name": "python",
   "nbconvert_exporter": "python",
   "pygments_lexer": "ipython3",
   "version": "3.11.5"
  }
 },
 "nbformat": 4,
 "nbformat_minor": 5
}
